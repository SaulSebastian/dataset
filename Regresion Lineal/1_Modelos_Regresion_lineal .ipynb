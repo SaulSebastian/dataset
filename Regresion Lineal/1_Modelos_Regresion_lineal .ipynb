{
 "cells": [
  {
   "cell_type": "markdown",
   "metadata": {},
   "source": [
    "## Linear Models for Regression & Classification\n",
    "\n",
    "<hr>\n",
    "\n",
    "### Indice\n",
    "1. Regresión lineal simple usando mínimos cuadrados ordinarios\n",
    "2. Algoritmo de descenso de gradiente\n",
    "3. Métodos de regresión regularizados: Ridge, Lasso, ElasticNet\n",
    "\n",
    "\n",
    "<hr>"
   ]
  },
  {
   "cell_type": "code",
   "execution_count": 1,
   "metadata": {},
   "outputs": [],
   "source": [
    "import numpy as np\n",
    "import pandas as pd\n",
    "import matplotlib.pyplot as plt\n",
    "%matplotlib inline"
   ]
  },
  {
   "cell_type": "markdown",
   "metadata": {},
   "source": [
    "## 1. Regresión lineal simple usando mínimos cuadrados ordinarios\n",
    "\n",
    "* La función consta de p variables independientes (p-dim)\n",
    "* La variable objetivo/dependiente está representada por y\n",
    "* La relación entre función y objetivo se representa mediante la siguiente ecuación\n",
    "* Los w representan pesos o coeficientes para cada característica, w0 es el intercepto"
   ]
  },
  {
   "cell_type": "markdown",
   "metadata": {},
   "source": [
    "$$\n",
    "ŷ(w, x)= w_{0}+w_{1}x_{1}+...+w_{p}x_{p}\n",
    "$$"
   ]
  },
  {
   "cell_type": "code",
   "execution_count": 8,
   "metadata": {},
   "outputs": [],
   "source": [
    "from sklearn.linear_model import LinearRegression\n",
    "from sklearn.linear_model import Ridge\n",
    "from sklearn.linear_model import Lasso\n",
    "from sklearn.linear_model import ElasticNet"
   ]
  },
  {
   "cell_type": "markdown",
   "metadata": {},
   "source": [
    "* Residual Squared Sum (RSS) of Error - Suma del cuadrado de la diferencia entre el valor real y el valor predicho\n",
    "\n",
    "<img src=\"lm2.png\" style='height:350px' >\n",
    "\n",
    "## 2. Gradient Descent\n",
    "\n",
    "* LinearRegression tries to minimize RSS using <a href=\"https://www.kdnuggets.com/2017/04/simple-understand-gradient-descent-algorithm.html\">Gradient Descent</a>. \n",
    "* The objective of Gradient Descent is the obtain best weights such that RSS is minimal.\n",
    "\n",
    "<img src=\"gd.png\" style='height:350px' >"
   ]
  },
  {
   "cell_type": "markdown",
   "metadata": {},
   "source": [
    "# Transformación de características\n",
    "\n",
    "### Comprender las matemáticas detrás del descenso de gradiente con notación simplificada\n",
    "* Prediction, $y_p = Ax+B$\n",
    "* Actual, y\n",
    "* Simplified Loss for caclulation, Loss = $1/2 *\\sum(y_p - y)^2$\n",
    "* Algorithm \n",
    "  - Inicializar aleatoriamente los pesos A y B\n",
    "   - Calcule el gradiente, es decir, el cambio en la pérdida cuando se cambian A y B.\n",
    "   - Cambie los pesos por gradientes calculados y reduzca la pérdida\n",
    "   - Repita todo el proceso hasta que los pesos no se reduzcan significativamente más"
   ]
  },
  {
   "cell_type": "code",
   "execution_count": 2,
   "metadata": {},
   "outputs": [],
   "source": [
    "import matplotlib.pyplot as plt\n",
    "%matplotlib inline"
   ]
  },
  {
   "cell_type": "markdown",
   "metadata": {},
   "source": [
    "#### Generación de conjunto de datos de regresión\n",
    "* n_features - número de características a considerar\n",
    "* noise(ruido)  - desviación de la línea recta\n",
    "* n_samples - número de muestras"
   ]
  },
  {
   "cell_type": "code",
   "execution_count": 3,
   "metadata": {},
   "outputs": [],
   "source": [
    "from sklearn.datasets import make_regression\n",
    "X,Y = make_regression(n_features=1, noise=10, n_samples=1000)"
   ]
  },
  {
   "cell_type": "code",
   "execution_count": 4,
   "metadata": {},
   "outputs": [
    {
     "data": {
      "text/plain": [
       "<matplotlib.collections.PathCollection at 0x2100f9be680>"
      ]
     },
     "execution_count": 4,
     "metadata": {},
     "output_type": "execute_result"
    },
    {
     "data": {
      "image/png": "[encoded data removed]",
      "text/plain": [
       "<Figure size 432x288 with 1 Axes>"
      ]
     },
     "metadata": {
      "needs_background": "light"
     },
     "output_type": "display_data"
    }
   ],
   "source": [
    "plt.xlabel('Feature - X')\n",
    "plt.ylabel('Target - Y')\n",
    "plt.scatter(X,Y,s=5)"
   ]
  },
  {
   "cell_type": "markdown",
   "metadata": {},
   "source": [
    "* Los hiperparámetros son la configuración inicial de los modelos\n",
    "* Inicializar el modelo de regresión lineal con hiperparámetros predeterminados"
   ]
  },
  {
   "cell_type": "code",
   "execution_count": 9,
   "metadata": {},
   "outputs": [],
   "source": [
    "lr = LinearRegression()"
   ]
  },
  {
   "cell_type": "markdown",
   "metadata": {},
   "source": [
    "#### Hiperparámetros comunes\n",
    "* fit_interceprt: si calcular la intersección para el modelo, no es necesario si los datos están centrados\n",
    "* normalizar - X se normalizará restando la media y dividiendo por la desviación estándar\n",
    "\n",
    "* <b>PD: al estandarizar los datos antes de someterlos al modelo, los coeficientes indican la importancia de las características</b>\n",
    "\n",
    "#### Atributos comunes\n",
    "* coef - pesos para cada variable independiente\n",
    "* intersección - sesgo del término independiente de modelos lineales\n",
    "\n",
    "#### Funciones comunes\n",
    "* ajuste - entrena el modelo. Toma X e Y\n",
    "* predecir: una vez que se entrena el modelo, para X dado usando la función de predicción, se puede predecir Y\n",
    "\n",
    "#### Objetivo múltiple\n",
    "* Y puede ser de más de 1 dimensión\n",
    "* Las ventajas de varios objetivos son\n",
    "   - computacionalmente rápido\n",
    "   - el modelo está optimizado para múltiples objetivos\n",
    "   - el modelo no utiliza la relación entre objetivos\n",
    "   - el modelo es más interpretable\n",
    "  \n",
    "<hr/>"
   ]
  },
  {
   "cell_type": "markdown",
   "metadata": {},
   "source": [
    "### Modelo de entrenamiento\n",
    "* X debe estar en filas de formato de datos, X.ndim == 2\n",
    "* Y debe ser 1D para un solo objetivo y 2D para más de un objetivo\n",
    "* función de ajuste para entrenar el modelo"
   ]
  },
  {
   "cell_type": "code",
   "execution_count": 10,
   "metadata": {},
   "outputs": [
    {
     "data": {
      "text/plain": [
       "LinearRegression()"
      ]
     },
     "execution_count": 10,
     "metadata": {},
     "output_type": "execute_result"
    }
   ],
   "source": [
    "lr.fit(X,Y)"
   ]
  },
  {
   "cell_type": "code",
   "execution_count": 11,
   "metadata": {},
   "outputs": [
    {
     "data": {
      "text/plain": [
       "array([20.31419191])"
      ]
     },
     "execution_count": 11,
     "metadata": {},
     "output_type": "execute_result"
    }
   ],
   "source": [
    "lr.coef_"
   ]
  },
  {
   "cell_type": "code",
   "execution_count": 12,
   "metadata": {},
   "outputs": [
    {
     "data": {
      "text/plain": [
       "0.1198029716871733"
      ]
     },
     "execution_count": 12,
     "metadata": {},
     "output_type": "execute_result"
    }
   ],
   "source": [
    "lr.intercept_"
   ]
  },
  {
   "cell_type": "markdown",
   "metadata": {},
   "source": [
    "### Predicción usando modelo entrenado"
   ]
  },
  {
   "cell_type": "code",
   "execution_count": 13,
   "metadata": {},
   "outputs": [],
   "source": [
    "pred = lr.predict(X)"
   ]
  },
  {
   "cell_type": "markdown",
   "metadata": {},
   "source": [
    "* Los puntos azules representan mapas de datos objetivo reales\n",
    "* Los puntos naranjas representan datos predichos"
   ]
  },
  {
   "cell_type": "code",
   "execution_count": 14,
   "metadata": {},
   "outputs": [
    {
     "data": {
      "image/png": "[encoded data removed]",
      "text/plain": [
       "<Figure size 432x288 with 1 Axes>"
      ]
     },
     "metadata": {
      "needs_background": "light"
     },
     "output_type": "display_data"
    }
   ],
   "source": [
    "plt.scatter(X,Y,s=5, label='training')\n",
    "plt.scatter(X,pred,s=5, label='prediction')\n",
    "plt.xlabel('Feature - X')\n",
    "plt.ylabel('Target - Y')\n",
    "plt.legend()\n",
    "plt.show()"
   ]
  },
  {
   "cell_type": "markdown",
   "metadata": {},
   "source": [
    "#### Limitación de la técnica de mínimos cuadrados ordinarios\n",
    "* Impactado por valores atípicos\n",
    "* No linealidades\n",
    "* Demasiadas variables independientes\n",
    "* Multicolinealidad\n",
    "* Heterocedasticidad\n",
    "* Ruido en las Variables Independientes"
   ]
  },
  {
   "cell_type": "markdown",
   "metadata": {},
   "source": [
    "## 3. Métodos de regresión regularizados\n",
    "\n",
    "\n",
    "### Regresión de cresta\n",
    "* Ridge Regression impone una penalización sobre el tamaño del coef.\n",
    "* Menos afectado por valores atípicos.\n",
    "\n",
    "#### Adición de valores atípicos a los datos"
   ]
  },
  {
   "cell_type": "code",
   "execution_count": 15,
   "metadata": {},
   "outputs": [
    {
     "data": {
      "text/plain": [
       "LinearRegression()"
      ]
     },
     "execution_count": 15,
     "metadata": {},
     "output_type": "execute_result"
    }
   ],
   "source": [
    "ridge = Ridge(alpha=.1)\n",
    "lr = LinearRegression()\n",
    "ridge.fit([[0, 0], [0, 0], [1, 1]],  [0, .1, 1])\n",
    "lr.fit([[0, 0], [0, 0], [1, 1]],  [0, .1, 1])"
   ]
  },
  {
   "cell_type": "code",
   "execution_count": 16,
   "metadata": {},
   "outputs": [
    {
     "data": {
      "text/plain": [
       "array([0.44186047, 0.44186047])"
      ]
     },
     "execution_count": 16,
     "metadata": {},
     "output_type": "execute_result"
    }
   ],
   "source": [
    "ridge.coef_"
   ]
  },
  {
   "cell_type": "code",
   "execution_count": 17,
   "metadata": {},
   "outputs": [
    {
     "data": {
      "text/plain": [
       "array([-1.47086948e+14,  1.47086948e+14])"
      ]
     },
     "execution_count": 17,
     "metadata": {},
     "output_type": "execute_result"
    }
   ],
   "source": [
    "lr.coef_"
   ]
  },
  {
   "cell_type": "code",
   "execution_count": 18,
   "metadata": {},
   "outputs": [],
   "source": [
    "outliers = Y[950:] - 600"
   ]
  },
  {
   "cell_type": "code",
   "execution_count": 19,
   "metadata": {},
   "outputs": [],
   "source": [
    "import numpy as np\n",
    "Y_Out = np.append(Y[:950],outliers)"
   ]
  },
  {
   "cell_type": "code",
   "execution_count": 20,
   "metadata": {},
   "outputs": [
    {
     "data": {
      "text/plain": [
       "<matplotlib.collections.PathCollection at 0x21013f3fac0>"
      ]
     },
     "execution_count": 20,
     "metadata": {},
     "output_type": "execute_result"
    },
    {
     "data": {
      "image/png": "[encoded data removed]",
      "text/plain": [
       "<Figure size 432x288 with 1 Axes>"
      ]
     },
     "metadata": {
      "needs_background": "light"
     },
     "output_type": "display_data"
    }
   ],
   "source": [
    "plt.scatter(X,Y_Out,s=5)"
   ]
  },
  {
   "cell_type": "code",
   "execution_count": 21,
   "metadata": {},
   "outputs": [],
   "source": [
    "lr = LinearRegression()"
   ]
  },
  {
   "cell_type": "code",
   "execution_count": 22,
   "metadata": {},
   "outputs": [
    {
     "data": {
      "text/plain": [
       "LinearRegression()"
      ]
     },
     "execution_count": 22,
     "metadata": {},
     "output_type": "execute_result"
    }
   ],
   "source": [
    "lr.fit(X,Y_Out)"
   ]
  },
  {
   "cell_type": "code",
   "execution_count": 23,
   "metadata": {},
   "outputs": [],
   "source": [
    "pred_Out = lr.predict(X)"
   ]
  },
  {
   "cell_type": "code",
   "execution_count": 24,
   "metadata": {},
   "outputs": [
    {
     "data": {
      "text/plain": [
       "Text(0.5, 1.0, 'Linear Regression')"
      ]
     },
     "execution_count": 24,
     "metadata": {},
     "output_type": "execute_result"
    },
    {
     "data": {
      "image/png": "[encoded data removed]",
      "text/plain": [
       "<Figure size 432x288 with 1 Axes>"
      ]
     },
     "metadata": {
      "needs_background": "light"
     },
     "output_type": "display_data"
    }
   ],
   "source": [
    "plt.scatter(X,Y_Out,s=5,label='actual')\n",
    "plt.scatter(X,pred_Out,s=5,label='predicción con valores atípicos')\n",
    "plt.scatter(X,pred,s=5,c='k', label='predicción sin valor atípico')\n",
    "plt.legend()\n",
    "plt.title('Linear Regression')"
   ]
  },
  {
   "cell_type": "code",
   "execution_count": 25,
   "metadata": {},
   "outputs": [
    {
     "data": {
      "text/plain": [
       "array([7.65589346])"
      ]
     },
     "execution_count": 25,
     "metadata": {},
     "output_type": "execute_result"
    }
   ],
   "source": [
    "lr.coef_"
   ]
  },
  {
   "cell_type": "code",
   "execution_count": 26,
   "metadata": {},
   "outputs": [],
   "source": [
    "from sklearn.linear_model import Ridge"
   ]
  },
  {
   "cell_type": "code",
   "execution_count": 27,
   "metadata": {},
   "outputs": [],
   "source": [
    "ridge = Ridge(alpha=1000)"
   ]
  },
  {
   "cell_type": "code",
   "execution_count": 28,
   "metadata": {},
   "outputs": [
    {
     "data": {
      "text/plain": [
       "Ridge(alpha=1000)"
      ]
     },
     "execution_count": 28,
     "metadata": {},
     "output_type": "execute_result"
    }
   ],
   "source": [
    "ridge.fit(X,Y_Out)"
   ]
  },
  {
   "cell_type": "code",
   "execution_count": 29,
   "metadata": {},
   "outputs": [],
   "source": [
    "pred_ridge = ridge.predict(X)"
   ]
  },
  {
   "cell_type": "code",
   "execution_count": 30,
   "metadata": {},
   "outputs": [
    {
     "data": {
      "text/plain": [
       "Text(0.5, 1.0, 'Linear Regression')"
      ]
     },
     "execution_count": 30,
     "metadata": {},
     "output_type": "execute_result"
    },
    {
     "data": {
      "image/png": "[encoded data removed]",
      "text/plain": [
       "<Figure size 432x288 with 1 Axes>"
      ]
     },
     "metadata": {
      "needs_background": "light"
     },
     "output_type": "display_data"
    }
   ],
   "source": [
    "plt.scatter(X,Y_Out,s=5,label='actual')\n",
    "plt.scatter(X,pred_Out,s=5, c='r' ,label='Regresión lineal con valores atípicos')\n",
    "plt.scatter(X,pred_ridge,s=5,c='k', label='Regresión de cresta con valor atípico')\n",
    "plt.legend()\n",
    "plt.title('Linear Regression')"
   ]
  },
  {
   "cell_type": "code",
   "execution_count": 31,
   "metadata": {},
   "outputs": [
    {
     "data": {
      "text/plain": [
       "array([3.85426849])"
      ]
     },
     "execution_count": 31,
     "metadata": {},
     "output_type": "execute_result"
    }
   ],
   "source": [
    "ridge.coef_"
   ]
  },
  {
   "cell_type": "markdown",
   "metadata": {},
   "source": [
    "### Efectos de alfa usando Ridge en Coeficientes\n",
    "* Generación de datos"
   ]
  },
  {
   "cell_type": "code",
   "execution_count": 32,
   "metadata": {},
   "outputs": [],
   "source": [
    "X, y, w = make_regression(n_samples=10, n_features=10, coef=True,\n",
    "                          random_state=1, bias=3.5)"
   ]
  },
  {
   "cell_type": "code",
   "execution_count": 33,
   "metadata": {},
   "outputs": [
    {
     "data": {
      "text/plain": [
       "array([80.71051956, 10.74941291, 38.78606441, 13.64552257,  5.99176895,\n",
       "       86.35418546, 12.13434557,  4.45518785, 74.71216427, 55.6240234 ])"
      ]
     },
     "execution_count": 33,
     "metadata": {},
     "output_type": "execute_result"
    }
   ],
   "source": [
    "w"
   ]
  },
  {
   "cell_type": "markdown",
   "metadata": {},
   "source": [
    "### Training Ridge para diferentes valores de alfa\n",
    "* Los coeficientes calculados se adjuntan a una lista\n",
    "* Generar 20 alfas de 10^-6 a 10^6"
   ]
  },
  {
   "cell_type": "code",
   "execution_count": 34,
   "metadata": {},
   "outputs": [
    {
     "data": {
      "text/plain": [
       "array([1.00000000e-06, 1.14895100e-06, 1.32008840e-06, 1.51671689e-06,\n",
       "       1.74263339e-06, 2.00220037e-06, 2.30043012e-06, 2.64308149e-06,\n",
       "       3.03677112e-06, 3.48910121e-06, 4.00880633e-06, 4.60592204e-06,\n",
       "       5.29197874e-06, 6.08022426e-06, 6.98587975e-06, 8.02643352e-06,\n",
       "       9.22197882e-06, 1.05956018e-05, 1.21738273e-05, 1.39871310e-05])"
      ]
     },
     "execution_count": 34,
     "metadata": {},
     "output_type": "execute_result"
    }
   ],
   "source": [
    "alphas = np.logspace(-6, 6, 200)\n",
    "alphas[:20]"
   ]
  },
  {
   "cell_type": "code",
   "execution_count": 35,
   "metadata": {},
   "outputs": [],
   "source": [
    "coefs = []\n",
    "for a in alphas:\n",
    "    ridge = Ridge(alpha=a, fit_intercept=False)\n",
    "    ridge.fit(X, y)\n",
    "    coefs.append(ridge.coef_)"
   ]
  },
  {
   "cell_type": "markdown",
   "metadata": {},
   "source": [
    "#### Trazado de alfas y coeficientes\n",
    "* Diferentes colores representan diferentes coefs\n",
    "\n",
    "#### Conclusión\n",
    "* A medida que alfa tiende a cero, los coeficientes encontrados por la regresión de Ridge se estabilizan hacia el vector w muestreado aleatoriamente (similar a la regresión lineal).\n",
    "* Para alfa grande (regularización fuerte), los coeficientes son más pequeños (eventualmente convergen en 0), lo que lleva a una solución más simple y sesgada."
   ]
  },
  {
   "cell_type": "code",
   "execution_count": 36,
   "metadata": {},
   "outputs": [
    {
     "data": {
      "image/png": "[encoded data removed]",
      "text/plain": [
       "<Figure size 432x288 with 1 Axes>"
      ]
     },
     "metadata": {
      "needs_background": "light"
     },
     "output_type": "display_data"
    }
   ],
   "source": [
    "ax = plt.gca()\n",
    "ax.plot(alphas, coefs)\n",
    "ax.set_xscale('log')\n",
    "plt.xlabel('alpha')\n",
    "plt.ylabel('weights')\n",
    "plt.title('Coeficientes de cresta en función de la regularización')\n",
    "plt.show()"
   ]
  },
  {
   "cell_type": "markdown",
   "metadata": {},
   "source": [
    "### Lasso\n",
    "* Modelo lineal que predice coefs dispersos\n",
    "* Reduce el objetivo de predicción de los regresores"
   ]
  },
  {
   "cell_type": "code",
   "execution_count": 37,
   "metadata": {},
   "outputs": [
    {
     "data": {
      "text/plain": [
       "Lasso(alpha=0.1)"
      ]
     },
     "execution_count": 37,
     "metadata": {},
     "output_type": "execute_result"
    }
   ],
   "source": [
    "lasso = Lasso(alpha=.1)\n",
    "lasso.fit([[0, 0], [0, 0], [1, 1]],  [0, .1, 1])"
   ]
  },
  {
   "cell_type": "code",
   "execution_count": 38,
   "metadata": {},
   "outputs": [
    {
     "data": {
      "text/plain": [
       "array([0.5, 0. ])"
      ]
     },
     "execution_count": 38,
     "metadata": {},
     "output_type": "execute_result"
    }
   ],
   "source": [
    "lasso.coef_"
   ]
  },
  {
   "cell_type": "markdown",
   "metadata": {},
   "source": [
    "### Elastic Net   "
   ]
  },
  {
   "cell_type": "markdown",
   "metadata": {},
   "source": [
    "* Elastic-net es útil cuando hay múltiples funciones que están correlacionadas entre sí. Es probable que Lasso elija uno de estos al azar, mientras que elastic-net probablemente elija ambos."
   ]
  },
  {
   "cell_type": "code",
   "execution_count": 39,
   "metadata": {},
   "outputs": [],
   "source": [
    "en = ElasticNet(alpha=.1)"
   ]
  },
  {
   "cell_type": "code",
   "execution_count": 40,
   "metadata": {},
   "outputs": [
    {
     "data": {
      "text/plain": [
       "ElasticNet(alpha=0.1)"
      ]
     },
     "execution_count": 40,
     "metadata": {},
     "output_type": "execute_result"
    }
   ],
   "source": [
    "en.fit([[0, 0], [0, 0], [1, 1]],  [0, .1, 1])"
   ]
  },
  {
   "cell_type": "code",
   "execution_count": 41,
   "metadata": {},
   "outputs": [
    {
     "data": {
      "text/plain": [
       "array([0.32589556, 0.32579954])"
      ]
     },
     "execution_count": 41,
     "metadata": {},
     "output_type": "execute_result"
    }
   ],
   "source": [
    "en.coef_"
   ]
  },
  {
   "cell_type": "markdown",
   "metadata": {},
   "source": [
    "![](img/questions-01.png)"
   ]
  },
  {
   "cell_type": "markdown",
   "metadata": {},
   "source": [
    "# 1. Regresión lineal\n",
    "\n",
    "### 1.1 Preguntas conceptuales\n",
    "1. ¿Cuál es la diferencia entre objetivo y predicción? $\n",
    "\\cdot \\cdot \\cdot \\cdot \\cdot \\cdot \\cdot \\cdot \\cdot \\cdot \\cdot $ ($\\star$)\n",
    "2. ¿Cuál es la pérdida utilizada en el problema de regresión lineal estándar?  $\\cdot \\cdot \\cdot \\cdot \\cdot \\cdot \\cdot \\cdot \\cdot \\cdot \\cdot$ ($\\star$)\n",
    "3. ¿Qué es la función objetivo en la regresión lineal? $\\cdot \\cdot \\cdot \\cdot \\cdot \\cdot \\cdot \\cdot \\cdot \\cdot \\cdot$  ($\\star \\star \\star$)\n",
    "4. ¿Cuáles son los parámetros que se optimizan en la regresión lineal? $\\cdot \\cdot \\cdot \\cdot \\cdot \\cdot \\cdot \\cdot \\cdot \\cdot \\cdot$  ($\\star$)\n",
    "5. ¿Qué es el vector de características en la regresión lineal? $\\cdot \\cdot \\cdot \\cdot \\cdot \\cdot \\cdot \\cdot \\cdot \\cdot \\cdot$  ($\\star$)\n",
    "6. ¿Qué son los modelos lineales? ¿Son solo sobre líneas? $\\cdot \\cdot \\cdot \\cdot \\cdot \\cdot \\cdot \\cdot \\cdot \\cdot \\cdot$ ($\\star$)\n"
   ]
  },
  {
   "cell_type": "code",
   "execution_count": null,
   "metadata": {},
   "outputs": [],
   "source": []
  }
 ],
 "metadata": {
  "kernelspec": {
   "display_name": "Python 3 (ipykernel)",
   "language": "python",
   "name": "python3"
  },
  "language_info": {
   "codemirror_mode": {
    "name": "ipython",
    "version": 3
   },
   "file_extension": ".py",
   "mimetype": "text/x-python",
   "name": "python",
   "nbconvert_exporter": "python",
   "pygments_lexer": "ipython3",
   "version": "3.10.6"
  }
 },
 "nbformat": 4,
 "nbformat_minor": 2
}
