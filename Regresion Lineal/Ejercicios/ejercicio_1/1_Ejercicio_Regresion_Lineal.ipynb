{
 "cells": [
  {
   "cell_type": "markdown",
   "metadata": {},
   "source": [
    "# Ejercicio de Regresión Lineal"
   ]
  },
  {
   "cell_type": "markdown",
   "metadata": {
    "ExecuteTime": {
     "end_time": "2018-05-05T08:19:33.323030Z",
     "start_time": "2018-05-05T08:19:33.308960Z"
    }
   },
   "source": [
    "En este notebook intentaremos predecir cuántas veces será compartido en Redes Sociales un artículo de Machine Learning segun algunas de sus características"
   ]
  },
  {
   "cell_type": "markdown",
   "metadata": {},
   "source": [
    "## Predicción: ¿Cuántas veces será compartido un artículo del Blog?"
   ]
  },
  {
   "cell_type": "markdown",
   "metadata": {},
   "source": [
    "Vamos a comenzar por Importar y Visualizar los datos"
   ]
  },
  {
   "cell_type": "code",
   "execution_count": 1,
   "metadata": {
    "ExecuteTime": {
     "end_time": "2018-05-06T15:28:50.037886Z",
     "start_time": "2018-05-06T15:28:50.028212Z"
    }
   },
   "outputs": [],
   "source": [
    "# Imports necesarios\n",
    "import numpy as np\n",
    "import pandas as pd\n",
    "import seaborn as sb\n",
    "import matplotlib.pyplot as plt\n",
    "%matplotlib inline\n",
    "from mpl_toolkits.mplot3d import Axes3D\n",
    "from matplotlib import cm\n",
    "plt.rcParams['figure.figsize'] = (16, 9)\n",
    "plt.style.use('ggplot')\n",
    "from sklearn import linear_model\n",
    "from sklearn.metrics import mean_squared_error, r2_score\n",
    "from sklearn.model_selection import train_test_split\n",
    "from sklearn.linear_model import LinearRegression\n",
    "from sklearn import metrics"
   ]
  },
  {
   "cell_type": "code",
   "execution_count": 2,
   "metadata": {
    "ExecuteTime": {
     "end_time": "2018-05-06T15:28:50.051323Z",
     "start_time": "2018-05-06T15:28:50.040878Z"
    },
    "scrolled": true
   },
   "outputs": [],
   "source": [
    "#cargamos los datos de entrada\n",
    "data = pd.read_csv(\"../datasets/articulos_ml.csv\")"
   ]
  },
  {
   "cell_type": "code",
   "execution_count": 25,
   "metadata": {
    "scrolled": true
   },
   "outputs": [
    {
     "data": {
      "text/html": [
       "<div>\n",
       "<style scoped>\n",
       "    .dataframe tbody tr th:only-of-type {\n",
       "        vertical-align: middle;\n",
       "    }\n",
       "\n",
       "    .dataframe tbody tr th {\n",
       "        vertical-align: top;\n",
       "    }\n",
       "\n",
       "    .dataframe thead th {\n",
       "        text-align: right;\n",
       "    }\n",
       "</style>\n",
       "<table border=\"1\" class=\"dataframe\">\n",
       "  <thead>\n",
       "    <tr style=\"text-align: right;\">\n",
       "      <th></th>\n",
       "      <th>Title</th>\n",
       "      <th>url</th>\n",
       "      <th>Word count</th>\n",
       "      <th># of Links</th>\n",
       "      <th># of comments</th>\n",
       "      <th># Images video</th>\n",
       "      <th>Elapsed days</th>\n",
       "      <th># Shares</th>\n",
       "    </tr>\n",
       "  </thead>\n",
       "  <tbody>\n",
       "    <tr>\n",
       "      <th>38</th>\n",
       "      <td>CometML wants to do for machine learning what ...</td>\n",
       "      <td>NaN</td>\n",
       "      <td>458</td>\n",
       "      <td>3</td>\n",
       "      <td>0.0</td>\n",
       "      <td>3</td>\n",
       "      <td>19</td>\n",
       "      <td>757</td>\n",
       "    </tr>\n",
       "    <tr>\n",
       "      <th>5</th>\n",
       "      <td>5 ways Data Science and Machine Learning impac...</td>\n",
       "      <td>NaN</td>\n",
       "      <td>761</td>\n",
       "      <td>0</td>\n",
       "      <td>NaN</td>\n",
       "      <td>1</td>\n",
       "      <td>14</td>\n",
       "      <td>21000</td>\n",
       "    </tr>\n",
       "    <tr>\n",
       "      <th>42</th>\n",
       "      <td>What's the difference between data science, ma...</td>\n",
       "      <td>http://varianceexplained.org/r/ds-ml-ai/</td>\n",
       "      <td>1763</td>\n",
       "      <td>1</td>\n",
       "      <td>29.0</td>\n",
       "      <td>1</td>\n",
       "      <td>105</td>\n",
       "      <td>2300</td>\n",
       "    </tr>\n",
       "    <tr>\n",
       "      <th>150</th>\n",
       "      <td>[Log] 77: Following Artificial Intelligence Br...</td>\n",
       "      <td>[Log] 77: http://feedproxy.google.com/~r/Techc...</td>\n",
       "      <td>2513</td>\n",
       "      <td>7</td>\n",
       "      <td>3.0</td>\n",
       "      <td>4</td>\n",
       "      <td>78</td>\n",
       "      <td>55914</td>\n",
       "    </tr>\n",
       "    <tr>\n",
       "      <th>89</th>\n",
       "      <td>[Log] 16: Story roundup: data to be grateful f...</td>\n",
       "      <td>[Log] 16: https://mxpnlcms.wpengine.com/blog/2...</td>\n",
       "      <td>2457</td>\n",
       "      <td>3</td>\n",
       "      <td>3.0</td>\n",
       "      <td>4</td>\n",
       "      <td>17</td>\n",
       "      <td>0</td>\n",
       "    </tr>\n",
       "    <tr>\n",
       "      <th>152</th>\n",
       "      <td>[Log] 79: Facebook Updates Progress on Artific...</td>\n",
       "      <td>[Log] 79: http://www.adweek.com/socialtimes/ar...</td>\n",
       "      <td>912</td>\n",
       "      <td>5</td>\n",
       "      <td>14.0</td>\n",
       "      <td>6</td>\n",
       "      <td>80</td>\n",
       "      <td>1824</td>\n",
       "    </tr>\n",
       "    <tr>\n",
       "      <th>158</th>\n",
       "      <td>[Log] 85: Microsoft Improves Windows Phone Voi...</td>\n",
       "      <td>[Log] 85: http://feedproxy.google.com/~r/Techc...</td>\n",
       "      <td>2089</td>\n",
       "      <td>4</td>\n",
       "      <td>4.0</td>\n",
       "      <td>1</td>\n",
       "      <td>86</td>\n",
       "      <td>49614</td>\n",
       "    </tr>\n",
       "    <tr>\n",
       "      <th>88</th>\n",
       "      <td>[Log] 15: Story roundup: data to be grateful f...</td>\n",
       "      <td>[Log] 15: https://mixpanel.com/blog/2017/11/22...</td>\n",
       "      <td>1858</td>\n",
       "      <td>8</td>\n",
       "      <td>5.0</td>\n",
       "      <td>2</td>\n",
       "      <td>16</td>\n",
       "      <td>25548</td>\n",
       "    </tr>\n",
       "    <tr>\n",
       "      <th>134</th>\n",
       "      <td>[Log] 61: Facebook’s Artificial Intelligence R...</td>\n",
       "      <td>[Log] 61: http://feedproxy.google.com/~r/Techc...</td>\n",
       "      <td>2282</td>\n",
       "      <td>1</td>\n",
       "      <td>1.0</td>\n",
       "      <td>3</td>\n",
       "      <td>62</td>\n",
       "      <td>54198</td>\n",
       "    </tr>\n",
       "    <tr>\n",
       "      <th>114</th>\n",
       "      <td>[Log] 41: 10 Machine Learning Examples in Java...</td>\n",
       "      <td>[Log] 41: http://tutorialzine.com/2017/04/10-m...</td>\n",
       "      <td>3480</td>\n",
       "      <td>1</td>\n",
       "      <td>14.0</td>\n",
       "      <td>3</td>\n",
       "      <td>42</td>\n",
       "      <td>20880</td>\n",
       "    </tr>\n",
       "  </tbody>\n",
       "</table>\n",
       "</div>"
      ],
      "text/plain": [
       "                                                 Title  \\\n",
       "38   CometML wants to do for machine learning what ...   \n",
       "5    5 ways Data Science and Machine Learning impac...   \n",
       "42   What's the difference between data science, ma...   \n",
       "150  [Log] 77: Following Artificial Intelligence Br...   \n",
       "89   [Log] 16: Story roundup: data to be grateful f...   \n",
       "152  [Log] 79: Facebook Updates Progress on Artific...   \n",
       "158  [Log] 85: Microsoft Improves Windows Phone Voi...   \n",
       "88   [Log] 15: Story roundup: data to be grateful f...   \n",
       "134  [Log] 61: Facebook’s Artificial Intelligence R...   \n",
       "114  [Log] 41: 10 Machine Learning Examples in Java...   \n",
       "\n",
       "                                                   url  Word count  \\\n",
       "38                                                 NaN         458   \n",
       "5                                                  NaN         761   \n",
       "42            http://varianceexplained.org/r/ds-ml-ai/        1763   \n",
       "150  [Log] 77: http://feedproxy.google.com/~r/Techc...        2513   \n",
       "89   [Log] 16: https://mxpnlcms.wpengine.com/blog/2...        2457   \n",
       "152  [Log] 79: http://www.adweek.com/socialtimes/ar...         912   \n",
       "158  [Log] 85: http://feedproxy.google.com/~r/Techc...        2089   \n",
       "88   [Log] 15: https://mixpanel.com/blog/2017/11/22...        1858   \n",
       "134  [Log] 61: http://feedproxy.google.com/~r/Techc...        2282   \n",
       "114  [Log] 41: http://tutorialzine.com/2017/04/10-m...        3480   \n",
       "\n",
       "     # of Links  # of comments  # Images video  Elapsed days  # Shares  \n",
       "38            3            0.0               3            19       757  \n",
       "5             0            NaN               1            14     21000  \n",
       "42            1           29.0               1           105      2300  \n",
       "150           7            3.0               4            78     55914  \n",
       "89            3            3.0               4            17         0  \n",
       "152           5           14.0               6            80      1824  \n",
       "158           4            4.0               1            86     49614  \n",
       "88            8            5.0               2            16     25548  \n",
       "134           1            1.0               3            62     54198  \n",
       "114           1           14.0               3            42     20880  "
      ]
     },
     "execution_count": 25,
     "metadata": {},
     "output_type": "execute_result"
    }
   ],
   "source": [
    "# obtener una muestra aleatoria \n",
    "data.sample(10)"
   ]
  },
  {
   "cell_type": "code",
   "execution_count": 4,
   "metadata": {
    "ExecuteTime": {
     "end_time": "2018-05-06T15:28:50.064402Z",
     "start_time": "2018-05-06T15:28:50.055301Z"
    }
   },
   "outputs": [
    {
     "data": {
      "text/plain": [
       "(161, 8)"
      ]
     },
     "execution_count": 4,
     "metadata": {},
     "output_type": "execute_result"
    }
   ],
   "source": [
    "#veamos cuantas dimensiones y registros contiene\n",
    "data.shape"
   ]
  },
  {
   "cell_type": "markdown",
   "metadata": {},
   "source": [
    "Vemos que algunos campos (por ejemplo en comentarios) tienen valores nulos.\n",
    "\n",
    "En nuestro caso la columna Shares será nuestra salida, es decir nuestro valor \"Y\", el valor que queremos predecir"
   ]
  },
  {
   "cell_type": "code",
   "execution_count": 6,
   "metadata": {
    "ExecuteTime": {
     "end_time": "2018-05-06T15:28:50.126775Z",
     "start_time": "2018-05-06T15:28:50.097200Z"
    }
   },
   "outputs": [
    {
     "data": {
      "text/html": [
       "<div>\n",
       "<style scoped>\n",
       "    .dataframe tbody tr th:only-of-type {\n",
       "        vertical-align: middle;\n",
       "    }\n",
       "\n",
       "    .dataframe tbody tr th {\n",
       "        vertical-align: top;\n",
       "    }\n",
       "\n",
       "    .dataframe thead th {\n",
       "        text-align: right;\n",
       "    }\n",
       "</style>\n",
       "<table border=\"1\" class=\"dataframe\">\n",
       "  <thead>\n",
       "    <tr style=\"text-align: right;\">\n",
       "      <th></th>\n",
       "      <th>Word count</th>\n",
       "      <th># of Links</th>\n",
       "      <th># of comments</th>\n",
       "      <th># Images video</th>\n",
       "      <th>Elapsed days</th>\n",
       "      <th># Shares</th>\n",
       "    </tr>\n",
       "  </thead>\n",
       "  <tbody>\n",
       "    <tr>\n",
       "      <th>count</th>\n",
       "      <td>161.000000</td>\n",
       "      <td>161.000000</td>\n",
       "      <td>129.000000</td>\n",
       "      <td>161.000000</td>\n",
       "      <td>161.000000</td>\n",
       "      <td>161.000000</td>\n",
       "    </tr>\n",
       "    <tr>\n",
       "      <th>mean</th>\n",
       "      <td>1808.260870</td>\n",
       "      <td>9.739130</td>\n",
       "      <td>8.782946</td>\n",
       "      <td>3.670807</td>\n",
       "      <td>98.124224</td>\n",
       "      <td>27948.347826</td>\n",
       "    </tr>\n",
       "    <tr>\n",
       "      <th>std</th>\n",
       "      <td>1141.919385</td>\n",
       "      <td>47.271625</td>\n",
       "      <td>13.142822</td>\n",
       "      <td>3.418290</td>\n",
       "      <td>114.337535</td>\n",
       "      <td>43408.006839</td>\n",
       "    </tr>\n",
       "    <tr>\n",
       "      <th>min</th>\n",
       "      <td>250.000000</td>\n",
       "      <td>0.000000</td>\n",
       "      <td>0.000000</td>\n",
       "      <td>1.000000</td>\n",
       "      <td>1.000000</td>\n",
       "      <td>0.000000</td>\n",
       "    </tr>\n",
       "    <tr>\n",
       "      <th>25%</th>\n",
       "      <td>990.000000</td>\n",
       "      <td>3.000000</td>\n",
       "      <td>2.000000</td>\n",
       "      <td>1.000000</td>\n",
       "      <td>31.000000</td>\n",
       "      <td>2800.000000</td>\n",
       "    </tr>\n",
       "    <tr>\n",
       "      <th>50%</th>\n",
       "      <td>1674.000000</td>\n",
       "      <td>5.000000</td>\n",
       "      <td>6.000000</td>\n",
       "      <td>3.000000</td>\n",
       "      <td>62.000000</td>\n",
       "      <td>16458.000000</td>\n",
       "    </tr>\n",
       "    <tr>\n",
       "      <th>75%</th>\n",
       "      <td>2369.000000</td>\n",
       "      <td>7.000000</td>\n",
       "      <td>12.000000</td>\n",
       "      <td>5.000000</td>\n",
       "      <td>124.000000</td>\n",
       "      <td>35691.000000</td>\n",
       "    </tr>\n",
       "    <tr>\n",
       "      <th>max</th>\n",
       "      <td>8401.000000</td>\n",
       "      <td>600.000000</td>\n",
       "      <td>104.000000</td>\n",
       "      <td>22.000000</td>\n",
       "      <td>1002.000000</td>\n",
       "      <td>350000.000000</td>\n",
       "    </tr>\n",
       "  </tbody>\n",
       "</table>\n",
       "</div>"
      ],
      "text/plain": [
       "        Word count  # of Links  # of comments  # Images video  Elapsed days  \\\n",
       "count   161.000000  161.000000     129.000000      161.000000    161.000000   \n",
       "mean   1808.260870    9.739130       8.782946        3.670807     98.124224   \n",
       "std    1141.919385   47.271625      13.142822        3.418290    114.337535   \n",
       "min     250.000000    0.000000       0.000000        1.000000      1.000000   \n",
       "25%     990.000000    3.000000       2.000000        1.000000     31.000000   \n",
       "50%    1674.000000    5.000000       6.000000        3.000000     62.000000   \n",
       "75%    2369.000000    7.000000      12.000000        5.000000    124.000000   \n",
       "max    8401.000000  600.000000     104.000000       22.000000   1002.000000   \n",
       "\n",
       "            # Shares  \n",
       "count     161.000000  \n",
       "mean    27948.347826  \n",
       "std     43408.006839  \n",
       "min         0.000000  \n",
       "25%      2800.000000  \n",
       "50%     16458.000000  \n",
       "75%     35691.000000  \n",
       "max    350000.000000  "
      ]
     },
     "execution_count": 6,
     "metadata": {},
     "output_type": "execute_result"
    }
   ],
   "source": [
    "# Ahora veamos algunas estadísticas de nuestros datos\n",
    "data.describe()"
   ]
  },
  {
   "cell_type": "markdown",
   "metadata": {
    "ExecuteTime": {
     "end_time": "2018-05-05T08:36:49.122754Z",
     "start_time": "2018-05-05T08:36:49.108512Z"
    }
   },
   "source": [
    "De aqui observamos que por ejemplo la media de Cantidad de palabras es 1808\n",
    "\n",
    "Hay un artíclo mínimo con 250 palabras y el máximo contiene 8401.\n",
    "\n",
    "Y en cuanto a las salidas, vemos mínimo de 0 veces compartido y máximo de 350000 (eso es mucho!)"
   ]
  },
  {
   "cell_type": "markdown",
   "metadata": {},
   "source": [
    "## Visualización General"
   ]
  },
  {
   "cell_type": "code",
   "execution_count": 7,
   "metadata": {
    "ExecuteTime": {
     "end_time": "2018-05-06T15:50:03.185268Z",
     "start_time": "2018-05-06T15:50:02.485816Z"
    }
   },
   "outputs": [
    {
     "name": "stderr",
     "output_type": "stream",
     "text": [
      "C:\\Users\\Lenovo\\AppData\\Local\\Temp\\ipykernel_8376\\3496384728.py:2: FutureWarning: In a future version of pandas all arguments of DataFrame.drop except for the argument 'labels' will be keyword-only.\n",
      "  data.drop(['Title','url', 'Elapsed days'],1).hist()\n"
     ]
    },
    {
     "data": {
      "image/png": "[encoded data removed]",
      "text/plain": [
       "<Figure size 1152x648 with 6 Axes>"
      ]
     },
     "metadata": {},
     "output_type": "display_data"
    }
   ],
   "source": [
    "# Visualizamos rápidamente las caraterísticas de entrada\n",
    "data.drop(['Title','url', 'Elapsed days'],1).hist()\n",
    "plt.show()"
   ]
  },
  {
   "cell_type": "markdown",
   "metadata": {},
   "source": [
    "## Visualizamos Cantidad de Palabras vs. Compartidos"
   ]
  },
  {
   "cell_type": "code",
   "execution_count": 8,
   "metadata": {
    "ExecuteTime": {
     "end_time": "2018-05-06T15:28:50.505154Z",
     "start_time": "2018-05-06T15:28:50.130110Z"
    }
   },
   "outputs": [
    {
     "data": {
      "image/png": "[encoded data removed]",
      "text/plain": [
       "<Figure size 1152x648 with 1 Axes>"
      ]
     },
     "metadata": {},
     "output_type": "display_data"
    }
   ],
   "source": [
    "#vamos a Visualizar los datos de entrada\n",
    "colores=['orange','blue']\n",
    "tamanios=[30,60]\n",
    "\n",
    "f1 = data['Word count'].values\n",
    "f2 = data['# Shares'].values\n",
    "\n",
    "# Vamos a pintar en 2 colores los puntos por debajo de la media de Cantidad de Palabras\n",
    "asignar=[]\n",
    "for index, row in data.iterrows():\n",
    "    if(row['Word count']>1808):\n",
    "        asignar.append(colores[0])\n",
    "    else:\n",
    "        asignar.append(colores[1])\n",
    "    \n",
    "plt.scatter(f1, f2, c=asignar, s=tamanios[0])\n",
    "plt.show()"
   ]
  },
  {
   "cell_type": "code",
   "execution_count": 9,
   "metadata": {
    "ExecuteTime": {
     "end_time": "2018-05-06T15:28:50.963199Z",
     "start_time": "2018-05-06T15:28:50.509749Z"
    }
   },
   "outputs": [
    {
     "data": {
      "image/png": "[encoded data removed]",
      "text/plain": [
       "<Figure size 1152x648 with 1 Axes>"
      ]
     },
     "metadata": {},
     "output_type": "display_data"
    }
   ],
   "source": [
    "# Vamos a RECORTAR los datos en la zona donde se concentran más los puntos\n",
    "# esto es en el eje X: entre 0 y 3.500\n",
    "# y en el eje Y: entre 0 y 80.000\n",
    "filtered_data = data[(data['Word count'] <= 3500) & (data['# Shares'] <= 80000)]\n",
    "\n",
    "f1 = filtered_data['Word count'].values\n",
    "f2 = filtered_data['# Shares'].values\n",
    "\n",
    "# Vamos a pintar en colores los puntos por debajo y por encima de la media de Cantidad de Palabras\n",
    "asignar=[]\n",
    "for index, row in filtered_data.iterrows():\n",
    "    if(row['Word count']>1808):\n",
    "        asignar.append(colores[0])\n",
    "    else:\n",
    "        asignar.append(colores[1])\n",
    "    \n",
    "plt.scatter(f1, f2, c=asignar, s=tamanios[0])\n",
    "plt.show()"
   ]
  },
  {
   "cell_type": "code",
   "execution_count": 10,
   "metadata": {
    "ExecuteTime": {
     "end_time": "2018-05-06T15:28:51.024042Z",
     "start_time": "2018-05-06T15:28:50.967169Z"
    },
    "scrolled": true
   },
   "outputs": [
    {
     "data": {
      "text/html": [
       "<div>\n",
       "<style scoped>\n",
       "    .dataframe tbody tr th:only-of-type {\n",
       "        vertical-align: middle;\n",
       "    }\n",
       "\n",
       "    .dataframe tbody tr th {\n",
       "        vertical-align: top;\n",
       "    }\n",
       "\n",
       "    .dataframe thead th {\n",
       "        text-align: right;\n",
       "    }\n",
       "</style>\n",
       "<table border=\"1\" class=\"dataframe\">\n",
       "  <thead>\n",
       "    <tr style=\"text-align: right;\">\n",
       "      <th></th>\n",
       "      <th>Word count</th>\n",
       "      <th># of Links</th>\n",
       "      <th># of comments</th>\n",
       "      <th># Images video</th>\n",
       "      <th>Elapsed days</th>\n",
       "      <th># Shares</th>\n",
       "    </tr>\n",
       "  </thead>\n",
       "  <tbody>\n",
       "    <tr>\n",
       "      <th>count</th>\n",
       "      <td>148.000000</td>\n",
       "      <td>148.000000</td>\n",
       "      <td>121.000000</td>\n",
       "      <td>148.000000</td>\n",
       "      <td>148.000000</td>\n",
       "      <td>148.000000</td>\n",
       "    </tr>\n",
       "    <tr>\n",
       "      <th>mean</th>\n",
       "      <td>1640.209459</td>\n",
       "      <td>5.743243</td>\n",
       "      <td>7.256198</td>\n",
       "      <td>3.331081</td>\n",
       "      <td>91.554054</td>\n",
       "      <td>20545.648649</td>\n",
       "    </tr>\n",
       "    <tr>\n",
       "      <th>std</th>\n",
       "      <td>821.975365</td>\n",
       "      <td>6.064418</td>\n",
       "      <td>6.346297</td>\n",
       "      <td>2.706476</td>\n",
       "      <td>91.143923</td>\n",
       "      <td>19933.865031</td>\n",
       "    </tr>\n",
       "    <tr>\n",
       "      <th>min</th>\n",
       "      <td>250.000000</td>\n",
       "      <td>0.000000</td>\n",
       "      <td>0.000000</td>\n",
       "      <td>1.000000</td>\n",
       "      <td>1.000000</td>\n",
       "      <td>0.000000</td>\n",
       "    </tr>\n",
       "    <tr>\n",
       "      <th>25%</th>\n",
       "      <td>971.000000</td>\n",
       "      <td>3.000000</td>\n",
       "      <td>2.000000</td>\n",
       "      <td>1.000000</td>\n",
       "      <td>28.750000</td>\n",
       "      <td>2750.000000</td>\n",
       "    </tr>\n",
       "    <tr>\n",
       "      <th>50%</th>\n",
       "      <td>1536.000000</td>\n",
       "      <td>5.000000</td>\n",
       "      <td>6.000000</td>\n",
       "      <td>3.000000</td>\n",
       "      <td>60.000000</td>\n",
       "      <td>15836.000000</td>\n",
       "    </tr>\n",
       "    <tr>\n",
       "      <th>75%</th>\n",
       "      <td>2335.750000</td>\n",
       "      <td>7.000000</td>\n",
       "      <td>11.000000</td>\n",
       "      <td>4.000000</td>\n",
       "      <td>110.500000</td>\n",
       "      <td>34177.500000</td>\n",
       "    </tr>\n",
       "    <tr>\n",
       "      <th>max</th>\n",
       "      <td>3485.000000</td>\n",
       "      <td>49.000000</td>\n",
       "      <td>30.000000</td>\n",
       "      <td>22.000000</td>\n",
       "      <td>349.000000</td>\n",
       "      <td>77000.000000</td>\n",
       "    </tr>\n",
       "  </tbody>\n",
       "</table>\n",
       "</div>"
      ],
      "text/plain": [
       "        Word count  # of Links  # of comments  # Images video  Elapsed days  \\\n",
       "count   148.000000  148.000000     121.000000      148.000000    148.000000   \n",
       "mean   1640.209459    5.743243       7.256198        3.331081     91.554054   \n",
       "std     821.975365    6.064418       6.346297        2.706476     91.143923   \n",
       "min     250.000000    0.000000       0.000000        1.000000      1.000000   \n",
       "25%     971.000000    3.000000       2.000000        1.000000     28.750000   \n",
       "50%    1536.000000    5.000000       6.000000        3.000000     60.000000   \n",
       "75%    2335.750000    7.000000      11.000000        4.000000    110.500000   \n",
       "max    3485.000000   49.000000      30.000000       22.000000    349.000000   \n",
       "\n",
       "           # Shares  \n",
       "count    148.000000  \n",
       "mean   20545.648649  \n",
       "std    19933.865031  \n",
       "min        0.000000  \n",
       "25%     2750.000000  \n",
       "50%    15836.000000  \n",
       "75%    34177.500000  \n",
       "max    77000.000000  "
      ]
     },
     "execution_count": 10,
     "metadata": {},
     "output_type": "execute_result"
    }
   ],
   "source": [
    "# Veamos como cambian los valores una vez filtrados\n",
    "filtered_data.describe()"
   ]
  },
  {
   "cell_type": "markdown",
   "metadata": {},
   "source": [
    "## Regresión Lineal Simple (1 variable)"
   ]
  },
  {
   "cell_type": "markdown",
   "metadata": {},
   "source": [
    "Vamos a intentar primero una Regresión Lineal con 1 sóla variable"
   ]
  },
  {
   "cell_type": "code",
   "execution_count": 11,
   "metadata": {
    "ExecuteTime": {
     "end_time": "2018-05-06T15:28:51.036535Z",
     "start_time": "2018-05-06T15:28:51.027426Z"
    }
   },
   "outputs": [],
   "source": [
    "# Asignamos nuestra variable de entrada X para entrenamiento y las etiquetas Y.\n",
    "dataX =filtered_data[[\"Word count\"]]\n",
    "X_train = np.array(dataX)\n",
    "y_train = filtered_data['# Shares'].values"
   ]
  },
  {
   "cell_type": "code",
   "execution_count": 26,
   "metadata": {
    "ExecuteTime": {
     "end_time": "2018-05-06T15:28:51.054663Z",
     "start_time": "2018-05-06T15:28:51.042421Z"
    },
    "scrolled": true
   },
   "outputs": [
    {
     "name": "stdout",
     "output_type": "stream",
     "text": [
      "Coefficients: \n",
      " [5.69765366]\n",
      "Independent term: \n",
      " 11200.30322307416\n",
      "Mean squared error: 372888728.34\n",
      "Variance score: 0.06\n"
     ]
    }
   ],
   "source": [
    "# Creamos el objeto de Regresión Linear\n",
    "regr = linear_model.LinearRegression()\n",
    "\n",
    "# Entrenamos nuestro modelo\n",
    "regr.fit(X_train, y_train)\n",
    "\n",
    "# Hacemos las predicciones que en definitiva una línea (en este caso, al ser 2D)\n",
    "y_pred = regr.predict(X_train)\n",
    "\n",
    "# A continuación, se imprime el error cuadrático medio (MSE) y el puntaje de varianza (R2 score). \n",
    "# El error cuadrático medio es una medida de cuán alejadas están las predicciones del modelo de las \n",
    "# etiquetas reales en promedio, mientras que el puntaje de varianza indica cuánta de la variabilidad \n",
    "# en los datos se puede explicar por el modelo. El puntaje de varianza oscila entre 0 y 1, siendo 1 el mejor puntaje posible.\n",
    "\n",
    "# Veamos los coeficienetes obtenidos, En nuestro caso, serán la Tangente\n",
    "print('Coefficients: \\n', regr.coef_)\n",
    "# Este es el valor donde corta el eje Y (en X=0)\n",
    "print('Independent term: \\n', regr.intercept_)\n",
    "# Error Cuadrado Medio\n",
    "print(\"Mean squared error: %.2f\" % mean_squared_error(y_train, y_pred))\n",
    "# Puntaje de Varianza. El mejor puntaje es un 1.0\n",
    "print('Variance score: %.2f' % r2_score(y_train, y_pred))"
   ]
  },
  {
   "cell_type": "markdown",
   "metadata": {},
   "source": [
    "## Visualizamos la Recta que obtuvimos"
   ]
  },
  {
   "cell_type": "code",
   "execution_count": 13,
   "metadata": {
    "ExecuteTime": {
     "end_time": "2018-05-06T15:28:51.432242Z",
     "start_time": "2018-05-06T15:28:51.060915Z"
    }
   },
   "outputs": [
    {
     "data": {
      "image/png": "[encoded data removed]",
      "text/plain": [
       "<Figure size 1152x648 with 1 Axes>"
      ]
     },
     "metadata": {},
     "output_type": "display_data"
    }
   ],
   "source": [
    "plt.scatter(X_train[:,0], y_train,  c=asignar, s=tamanios[0])\n",
    "plt.plot(X_train[:,0], y_pred, color='red', linewidth=3)\n",
    "\n",
    "plt.xlabel('Cantidad de Palabras')\n",
    "plt.ylabel('Compartido en Redes')\n",
    "plt.title('Regresión Lineal')\n",
    "\n",
    "plt.show()"
   ]
  },
  {
   "cell_type": "markdown",
   "metadata": {},
   "source": [
    "### Predicción 1"
   ]
  },
  {
   "cell_type": "code",
   "execution_count": 14,
   "metadata": {
    "ExecuteTime": {
     "end_time": "2018-05-06T15:28:51.440993Z",
     "start_time": "2018-05-06T15:28:51.435404Z"
    }
   },
   "outputs": [
    {
     "name": "stdout",
     "output_type": "stream",
     "text": [
      "22595\n"
     ]
    }
   ],
   "source": [
    "#Vamos a comprobar:\n",
    "# Quiero predecir cuántos \"Shares\" voy a obtener por un artículo con 2.000 palabras,\n",
    "# según nuestro modelo, hacemos:\n",
    "y_Dosmil = regr.predict([[2000]])\n",
    "print(int(y_Dosmil))"
   ]
  },
  {
   "cell_type": "code",
   "execution_count": 15,
   "metadata": {},
   "outputs": [
    {
     "name": "stdout",
     "output_type": "stream",
     "text": [
      "Coeficiente de determinación R 0.05519842281951404\n"
     ]
    }
   ],
   "source": [
    "print('Coeficiente de determinación R',regr.score(X_train,y_train))"
   ]
  },
  {
   "cell_type": "code",
   "execution_count": 17,
   "metadata": {},
   "outputs": [
    {
     "data": {
      "image/png": "[encoded data removed]",
      "text/plain": [
       "<Figure size 1008x576 with 1 Axes>"
      ]
     },
     "metadata": {},
     "output_type": "display_data"
    }
   ],
   "source": [
    "df = pd.DataFrame({'real':y_train,'predicho': y_pred})\n",
    "df1 = df.head(25)#seleccionamos los 25 primeros valores\n",
    "df1.plot(kind='bar',figsize=(14,8))\n",
    "plt.legend(loc=1, prop={'size':14})\n",
    "plt.show()"
   ]
  },
  {
   "cell_type": "markdown",
   "metadata": {},
   "source": [
    "Evidentemente No es tan sencillo...\n",
    "\n",
    "Vamos a mejorar un poco el modelo\n",
    "\n",
    "# Regresión Lineal Múltiples (múltiples variables)"
   ]
  },
  {
   "cell_type": "code",
   "execution_count": 18,
   "metadata": {
    "ExecuteTime": {
     "end_time": "2018-05-06T15:28:51.462189Z",
     "start_time": "2018-05-06T15:28:51.446341Z"
    }
   },
   "outputs": [
    {
     "data": {
      "text/plain": [
       "array([[1.742e+03, 1.800e+01],\n",
       "       [9.620e+02, 7.000e+00],\n",
       "       [7.610e+02, 1.000e+00],\n",
       "       [7.530e+02, 4.000e+00],\n",
       "       [1.118e+03, 3.000e+00],\n",
       "       [1.581e+03, 6.000e+00],\n",
       "       [2.560e+02, 2.800e+01],\n",
       "       [1.267e+03, 6.000e+00],\n",
       "       [9.710e+02, 1.100e+01],\n",
       "       [3.690e+02, 7.000e+00],\n",
       "       [6.350e+02, 6.000e+00],\n",
       "       [1.631e+03, 2.100e+01],\n",
       "       [5.710e+02, 5.000e+00],\n",
       "       [1.333e+03, 1.200e+01],\n",
       "       [3.640e+02, 7.000e+00],\n",
       "       [5.150e+02, 7.000e+00],\n",
       "       [1.135e+03, 9.000e+00],\n",
       "       [6.660e+02, 7.000e+00],\n",
       "       [7.870e+02, 5.000e+00],\n",
       "       [4.210e+02, 3.000e+00],\n",
       "       [1.065e+03, 2.100e+01],\n",
       "       [9.080e+02, 3.000e+00],\n",
       "       [1.260e+03, 1.100e+01],\n",
       "       [9.500e+02, 7.000e+00],\n",
       "       [1.761e+03, 6.300e+01],\n",
       "       [9.110e+02, 3.400e+01],\n",
       "       [9.710e+02, 7.000e+00],\n",
       "       [4.580e+02, 3.000e+00],\n",
       "       [4.580e+02, 6.000e+00],\n",
       "       [7.820e+02, 1.400e+01],\n",
       "       [2.080e+03, 8.000e+00],\n",
       "       [2.500e+02, 7.000e+00],\n",
       "       [1.763e+03, 3.100e+01],\n",
       "       [6.500e+02, 1.300e+01],\n",
       "       [1.184e+03, 4.800e+01],\n",
       "       [9.570e+02, 1.000e+01],\n",
       "       [6.270e+02, 1.100e+01],\n",
       "       [8.950e+02, 1.500e+01],\n",
       "       [1.097e+03, 3.000e+00],\n",
       "       [1.262e+03, 2.000e+01],\n",
       "       [1.738e+03, 4.100e+01],\n",
       "       [1.813e+03, 1.100e+01],\n",
       "       [2.400e+03, 3.700e+01],\n",
       "       [6.620e+02, 6.000e+00],\n",
       "       [8.000e+02, 8.000e+00],\n",
       "       [3.670e+02, 6.000e+00],\n",
       "       [5.070e+02, 2.300e+01],\n",
       "       [9.920e+02, 4.600e+01],\n",
       "       [4.990e+02, 1.700e+01],\n",
       "       [6.190e+02, 1.400e+01],\n",
       "       [1.152e+03, 1.100e+01],\n",
       "       [2.363e+03, 8.000e+00],\n",
       "       [9.880e+02, 2.000e+00],\n",
       "       [7.590e+02, 2.200e+01],\n",
       "       [1.098e+03, 1.100e+01],\n",
       "       [2.797e+03, 5.100e+01],\n",
       "       [1.120e+03, 6.000e+00],\n",
       "       [2.488e+03, 1.600e+01],\n",
       "       [2.049e+03, 4.200e+01],\n",
       "       [2.542e+03, 6.000e+00],\n",
       "       [1.011e+03, 1.700e+01],\n",
       "       [2.189e+03, 2.200e+01],\n",
       "       [1.864e+03, 2.000e+01],\n",
       "       [9.900e+02, 1.600e+01],\n",
       "       [1.741e+03, 1.800e+01],\n",
       "       [1.229e+03, 1.500e+01],\n",
       "       [2.975e+03, 5.000e+00],\n",
       "       [1.864e+03, 1.500e+01],\n",
       "       [2.460e+03, 1.500e+01],\n",
       "       [2.136e+03, 1.700e+01],\n",
       "       [2.833e+03, 9.000e+00],\n",
       "       [1.995e+03, 1.900e+01],\n",
       "       [2.332e+03, 1.200e+01],\n",
       "       [1.998e+03, 1.200e+01],\n",
       "       [3.442e+03, 1.400e+01],\n",
       "       [2.696e+03, 1.200e+01],\n",
       "       [1.913e+03, 1.200e+01],\n",
       "       [1.858e+03, 1.500e+01],\n",
       "       [2.457e+03, 1.000e+01],\n",
       "       [2.592e+03, 1.900e+01],\n",
       "       [1.718e+03, 1.600e+01],\n",
       "       [1.293e+03, 2.100e+01],\n",
       "       [3.023e+03, 1.400e+01],\n",
       "       [3.485e+03, 1.800e+01],\n",
       "       [2.093e+03, 1.900e+01],\n",
       "       [1.490e+03, 8.000e+00],\n",
       "       [1.238e+03, 1.900e+01],\n",
       "       [2.583e+03, 1.500e+01],\n",
       "       [1.007e+03, 1.500e+01],\n",
       "       [9.780e+02, 9.000e+00],\n",
       "       [3.019e+03, 1.000e+01],\n",
       "       [2.347e+03, 9.000e+00],\n",
       "       [2.224e+03, 1.300e+01],\n",
       "       [1.778e+03, 2.100e+01],\n",
       "       [1.150e+03, 1.300e+01],\n",
       "       [2.528e+03, 1.300e+01],\n",
       "       [2.486e+03, 2.000e+01],\n",
       "       [2.317e+03, 2.000e+01],\n",
       "       [2.369e+03, 1.000e+01],\n",
       "       [1.612e+03, 1.200e+01],\n",
       "       [1.136e+03, 2.300e+01],\n",
       "       [2.721e+03, 2.300e+01],\n",
       "       [3.480e+03, 1.800e+01],\n",
       "       [1.143e+03, 1.900e+01],\n",
       "       [2.428e+03, 1.700e+01],\n",
       "       [2.877e+03, 1.200e+01],\n",
       "       [7.760e+02, 1.400e+01],\n",
       "       [1.284e+03, 1.500e+01],\n",
       "       [1.145e+03, 1.900e+01],\n",
       "       [1.793e+03, 2.400e+01],\n",
       "       [2.904e+03, 2.200e+01],\n",
       "       [1.473e+03, 2.000e+01],\n",
       "       [2.894e+03, 1.400e+01],\n",
       "       [1.932e+03, 9.000e+00],\n",
       "       [3.225e+03, 8.000e+00],\n",
       "       [3.185e+03, 1.500e+01],\n",
       "       [2.068e+03, 1.200e+01],\n",
       "       [2.354e+03, 1.300e+01],\n",
       "       [2.921e+03, 1.800e+01],\n",
       "       [2.211e+03, 1.800e+01],\n",
       "       [2.865e+03, 1.700e+01],\n",
       "       [1.674e+03, 9.000e+00],\n",
       "       [2.282e+03, 5.000e+00],\n",
       "       [2.636e+03, 1.500e+01],\n",
       "       [7.740e+02, 5.000e+00],\n",
       "       [1.030e+03, 2.000e+01],\n",
       "       [7.340e+02, 1.900e+01],\n",
       "       [7.430e+02, 1.200e+01],\n",
       "       [1.514e+03, 1.000e+01],\n",
       "       [2.854e+03, 1.300e+01],\n",
       "       [1.443e+03, 2.100e+01],\n",
       "       [1.817e+03, 2.000e+01],\n",
       "       [1.266e+03, 1.200e+01],\n",
       "       [2.275e+03, 1.200e+01],\n",
       "       [1.264e+03, 7.000e+00],\n",
       "       [2.212e+03, 2.200e+01],\n",
       "       [1.871e+03, 2.400e+01],\n",
       "       [2.513e+03, 1.400e+01],\n",
       "       [1.443e+03, 1.600e+01],\n",
       "       [9.120e+02, 2.500e+01],\n",
       "       [2.366e+03, 1.500e+01],\n",
       "       [1.542e+03, 1.300e+01],\n",
       "       [1.201e+03, 2.000e+00],\n",
       "       [3.239e+03, 1.500e+01],\n",
       "       [2.566e+03, 1.500e+01],\n",
       "       [2.089e+03, 9.000e+00],\n",
       "       [1.530e+03, 1.900e+01],\n",
       "       [9.530e+02, 2.100e+01]])"
      ]
     },
     "execution_count": 18,
     "metadata": {},
     "output_type": "execute_result"
    }
   ],
   "source": [
    "#Vamos a intentar mejorar el Modelo, con una dimensión más: \n",
    "# Para poder graficar en 3D, haremos una variable nueva que será la suma de los enlaces, comentarios e imágenes\n",
    "suma = (filtered_data[\"# of Links\"] + filtered_data['# of comments'].fillna(0) + filtered_data['# Images video'])\n",
    "\n",
    "dataX2 =  pd.DataFrame()\n",
    "dataX2[\"Word count\"] = filtered_data[\"Word count\"]\n",
    "dataX2[\"suma\"] = suma\n",
    "XY_train = np.array(dataX2)\n",
    "z_train = filtered_data['# Shares'].values\n",
    "XY_train"
   ]
  },
  {
   "cell_type": "markdown",
   "metadata": {
    "ExecuteTime": {
     "end_time": "2018-05-06T09:54:24.557815Z",
     "start_time": "2018-05-06T09:54:24.544488Z"
    }
   },
   "source": [
    "Atención: Esta vez, nuestras dimensiones de entrenamiento serán X e Y y las etiquetas de predicción serán z."
   ]
  },
  {
   "cell_type": "code",
   "execution_count": 19,
   "metadata": {
    "ExecuteTime": {
     "end_time": "2018-05-06T15:28:51.481430Z",
     "start_time": "2018-05-06T15:28:51.466336Z"
    }
   },
   "outputs": [
    {
     "name": "stdout",
     "output_type": "stream",
     "text": [
      "Coefficients: \n",
      " [   6.63216324 -483.40753769]\n",
      "Mean squared error: 352122816.48\n",
      "Variance score: 0.11\n"
     ]
    }
   ],
   "source": [
    "# Creamos un nuevo objeto de Regresión Lineal\n",
    "regr2 = linear_model.LinearRegression()\n",
    "\n",
    "# Entrenamos el modelo, esta vez, con 2 dimensiones\n",
    "# obtendremos 2 coeficientes, para graficar un plano\n",
    "regr2.fit(XY_train, z_train)\n",
    "\n",
    "# Hacemos la predicción con la que tendremos puntos sobre el plano hallado\n",
    "z_pred = regr2.predict(XY_train)\n",
    "\n",
    "# Los coeficientes\n",
    "print('Coefficients: \\n', regr2.coef_)\n",
    "# Error cuadrático medio\n",
    "print(\"Mean squared error: %.2f\" % mean_squared_error(z_train, z_pred))\n",
    "# Evaluamos el puntaje de varianza (siendo 1.0 el mejor posible)\n",
    "print('Variance score: %.2f' % r2_score(z_train, z_pred))"
   ]
  },
  {
   "cell_type": "code",
   "execution_count": 20,
   "metadata": {},
   "outputs": [
    {
     "name": "stdout",
     "output_type": "stream",
     "text": [
      "Coeficiente de determinación R 0.107813760282097\n"
     ]
    }
   ],
   "source": [
    "print('Coeficiente de determinación R',regr2.score(XY_train,z_train))\n",
    "#print('Coeficiente de determinación R:  %.2f' % regr2.score(XY_train,z_train))"
   ]
  },
  {
   "cell_type": "markdown",
   "metadata": {
    "ExecuteTime": {
     "end_time": "2018-05-10T11:28:25.503809Z",
     "start_time": "2018-05-10T11:28:25.499128Z"
    }
   },
   "source": [
    "### Predicción 2"
   ]
  },
  {
   "cell_type": "code",
   "execution_count": 23,
   "metadata": {
    "ExecuteTime": {
     "end_time": "2018-05-06T15:28:52.296422Z",
     "start_time": "2018-05-06T15:28:52.288285Z"
    }
   },
   "outputs": [
    {
     "name": "stdout",
     "output_type": "stream",
     "text": [
      "20518\n"
     ]
    }
   ],
   "source": [
    "# Si quiero predecir cuántos \"Shares\" voy a obtener por un artículo con: \n",
    "# 2000 palabras y con enlaces: 10, comentarios: 4, imagenes: 6\n",
    "# según nuestro modelo, hacemos:\n",
    "\n",
    "z_Dosmil = regr2.predict([[2000, 10+4+6]])\n",
    "print(int(z_Dosmil))"
   ]
  },
  {
   "cell_type": "code",
   "execution_count": 22,
   "metadata": {},
   "outputs": [
    {
     "data": {
      "image/png": "[encoded data removed]",
      "text/plain": [
       "<Figure size 1008x576 with 1 Axes>"
      ]
     },
     "metadata": {},
     "output_type": "display_data"
    }
   ],
   "source": [
    "df = pd.DataFrame({'real':z_train,'predicho': z_pred})\n",
    "df1 = df.head(25)#seleccionamos los 25 primeros valores\n",
    "df1.plot(kind='bar',figsize=(14,8))\n",
    "plt.legend(loc=1, prop={'size':14})\n",
    "plt.show()"
   ]
  },
  {
   "cell_type": "markdown",
   "metadata": {},
   "source": [
    "# Mejorar las predicciones y notas finales"
   ]
  },
  {
   "cell_type": "markdown",
   "metadata": {},
   "source": [
    "En este ejemplo utilizamos información de artículos sobre Machine Learning con algunos datos ficticios \n",
    "en nuestro .csv pero si quisieramos tratar de mejorar\n",
    "las predicciones, deberiamos utilizar más de 2 variables (recordemos que aqui lo hicimos para poder\n",
    "graficar en 3D).\n",
    "Sería conveniente además conseguir mejores características de entrada, pues no es lo mismo un enlace\n",
    "de un portal con multitud de visitas al mes, que otros Blogs más modestos."
   ]
  },
  {
   "attachments": {},
   "cell_type": "markdown",
   "metadata": {},
   "source": [
    "## OVERVIEW\n",
    "La regresión lineal es un método estadístico utilizado para modelar la relación entre una variable dependiente y una o más variables independientes. Las partes principales de la regresión lineal incluyen los siguientes elementos:\n",
    "\n",
    "+ Coeficientes de regresión: Estos son los valores que indican la relación entre las variables independientes y la variable dependiente. Los coeficientes se calculan utilizando la técnica de mínimos cuadrados y se pueden interpretar como la pendiente de la línea de regresión.\n",
    "\n",
    "+ Intercepto: Este es el valor de la variable dependiente cuando todas las variables independientes son iguales a cero. Se representa por la letra \"b\" en la ecuación de la línea de regresión (y = mx + b).\n",
    "\n",
    "+ Error estándar: Este es el valor que indica cuánto varía la variable dependiente en promedio en relación con la línea de regresión. Se utiliza para calcular los intervalos de confianza y la significancia estadística de los coeficientes de regresión.\n",
    "\n",
    "+ Coeficiente de determinación (R²): Este es un valor que indica la proporción de la variación de la variable dependiente que puede explicarse por las variables independientes. Se encuentra en el rango de 0 a 1, donde 0 significa que no hay relación entre las variables y 1 significa que todas las variaciones de la variable dependiente se explican por las variables independientes.\n",
    "\n",
    "+ Error cuadrático medio (MSE): Este es el promedio de los errores al cuadrado entre los valores observados y los valores predichos por el modelo. Es una medida de la calidad del ajuste de la línea de regresión a los datos y se utiliza para comparar diferentes modelos."
   ]
  },
  {
   "attachments": {},
   "cell_type": "markdown",
   "metadata": {},
   "source": [
    "# EJERCICIO . Regresión Lineal Múltiples (múltiples variables)"
   ]
  },
  {
   "cell_type": "code",
   "execution_count": null,
   "metadata": {
    "scrolled": true
   },
   "outputs": [],
   "source": [
    "#seleccion de columnas\n",
    "desired_columns = [\"Word count\", \"# of Links\", \"# of comments\", \"# Images video\",\"Elapsed days\",\"# Shares\"]\n",
    "data2 = data[desired_columns]\n",
    "data2[\"# of comments\"] = data2[\"# of comments\"].fillna(data[\"# of comments\"].mean())\n",
    "\n",
    "#data5[\"age\"].fillna(data[\"age\"].mean())\n",
    "\n",
    "data2.describe()"
   ]
  },
  {
   "cell_type": "code",
   "execution_count": null,
   "metadata": {},
   "outputs": [],
   "source": [
    "#Regresión lineal todas las columnas del dataset\n",
    "X= data2[list(data2.columns)[:-1]]#se excluye la columna 'quality'\n",
    "Y= data2['# Shares']\n",
    "#dividir conjunto train/test\n",
    "x_train,x_test,y_train,y_test = train_test_split(X ,Y , train_size=0.8, random_state =0)"
   ]
  },
  {
   "cell_type": "code",
   "execution_count": null,
   "metadata": {},
   "outputs": [],
   "source": [
    "#entrenar el modelo\n",
    "regressor=LinearRegression()\n"
   ]
  },
  {
   "cell_type": "code",
   "execution_count": null,
   "metadata": {},
   "outputs": [],
   "source": [
    "#coeficientes que muestran modelo de regresión definida\n",
    "data2 = pd.DataFrame(...,columns=['Coeficiente'])\n",
    "data2"
   ]
  },
  {
   "cell_type": "code",
   "execution_count": null,
   "metadata": {},
   "outputs": [],
   "source": [
    "#predicciones sobre conjunto prueba\n",
    "y_pred = "
   ]
  },
  {
   "cell_type": "code",
   "execution_count": null,
   "metadata": {
    "scrolled": true
   },
   "outputs": [],
   "source": [
    "#Obtener el RMSE"
   ]
  },
  {
   "cell_type": "code",
   "execution_count": null,
   "metadata": {},
   "outputs": [],
   "source": [
    "#Obtener el MAE"
   ]
  },
  {
   "cell_type": "code",
   "execution_count": null,
   "metadata": {},
   "outputs": [],
   "source": [
    "#Obtener el coeficiente de determinación R'"
   ]
  },
  {
   "cell_type": "code",
   "execution_count": null,
   "metadata": {},
   "outputs": [],
   "source": [
    "# Creamos un grafico de barras que muestre los resultados predichos"
   ]
  },
  {
   "cell_type": "code",
   "execution_count": null,
   "metadata": {},
   "outputs": [],
   "source": []
  }
 ],
 "metadata": {
  "kernelspec": {
   "display_name": "Python 3 (ipykernel)",
   "language": "python",
   "name": "python3"
  },
  "language_info": {
   "codemirror_mode": {
    "name": "ipython",
    "version": 3
   },
   "file_extension": ".py",
   "mimetype": "text/x-python",
   "name": "python",
   "nbconvert_exporter": "python",
   "pygments_lexer": "ipython3",
   "version": "3.11.3"
  }
 },
 "nbformat": 4,
 "nbformat_minor": 4
}
